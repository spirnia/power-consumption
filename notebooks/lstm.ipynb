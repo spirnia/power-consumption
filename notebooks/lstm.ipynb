{
 "cells": [
  {
   "cell_type": "code",
   "execution_count": 1,
   "metadata": {},
   "outputs": [],
   "source": [
    "import warnings\n",
    "warnings.filterwarnings(\"ignore\") "
   ]
  },
  {
   "cell_type": "code",
   "execution_count": 2,
   "metadata": {},
   "outputs": [
    {
     "data": {
      "text/html": [
       "<div>\n",
       "<style scoped>\n",
       "    .dataframe tbody tr th:only-of-type {\n",
       "        vertical-align: middle;\n",
       "    }\n",
       "\n",
       "    .dataframe tbody tr th {\n",
       "        vertical-align: top;\n",
       "    }\n",
       "\n",
       "    .dataframe thead th {\n",
       "        text-align: right;\n",
       "    }\n",
       "</style>\n",
       "<table border=\"1\" class=\"dataframe\">\n",
       "  <thead>\n",
       "    <tr style=\"text-align: right;\">\n",
       "      <th></th>\n",
       "      <th>Temperature</th>\n",
       "      <th>Humidity</th>\n",
       "      <th>WindSpeed</th>\n",
       "      <th>GeneralDiffuseFlows</th>\n",
       "      <th>DiffuseFlows</th>\n",
       "      <th>PowerConsumption</th>\n",
       "    </tr>\n",
       "    <tr>\n",
       "      <th>Datetime</th>\n",
       "      <th></th>\n",
       "      <th></th>\n",
       "      <th></th>\n",
       "      <th></th>\n",
       "      <th></th>\n",
       "      <th></th>\n",
       "    </tr>\n",
       "  </thead>\n",
       "  <tbody>\n",
       "    <tr>\n",
       "      <th>2017-01-01 00:00</th>\n",
       "      <td>6.196833</td>\n",
       "      <td>75.066667</td>\n",
       "      <td>0.081833</td>\n",
       "      <td>0.063500</td>\n",
       "      <td>0.098833</td>\n",
       "      <td>22158.923532</td>\n",
       "    </tr>\n",
       "    <tr>\n",
       "      <th>2017-01-01 01:00</th>\n",
       "      <td>5.548833</td>\n",
       "      <td>77.583333</td>\n",
       "      <td>0.082000</td>\n",
       "      <td>0.056833</td>\n",
       "      <td>0.112500</td>\n",
       "      <td>19259.508737</td>\n",
       "    </tr>\n",
       "    <tr>\n",
       "      <th>2017-01-01 02:00</th>\n",
       "      <td>5.054333</td>\n",
       "      <td>78.933333</td>\n",
       "      <td>0.082333</td>\n",
       "      <td>0.063000</td>\n",
       "      <td>0.129167</td>\n",
       "      <td>17363.293880</td>\n",
       "    </tr>\n",
       "    <tr>\n",
       "      <th>2017-01-01 03:00</th>\n",
       "      <td>5.004333</td>\n",
       "      <td>77.083333</td>\n",
       "      <td>0.082833</td>\n",
       "      <td>0.059833</td>\n",
       "      <td>0.141000</td>\n",
       "      <td>16304.815849</td>\n",
       "    </tr>\n",
       "    <tr>\n",
       "      <th>2017-01-01 04:00</th>\n",
       "      <td>5.097667</td>\n",
       "      <td>74.050000</td>\n",
       "      <td>0.082333</td>\n",
       "      <td>0.058000</td>\n",
       "      <td>0.122833</td>\n",
       "      <td>15904.879449</td>\n",
       "    </tr>\n",
       "  </tbody>\n",
       "</table>\n",
       "</div>"
      ],
      "text/plain": [
       "                  Temperature   Humidity  WindSpeed  GeneralDiffuseFlows  \\\n",
       "Datetime                                                                   \n",
       "2017-01-01 00:00     6.196833  75.066667   0.081833             0.063500   \n",
       "2017-01-01 01:00     5.548833  77.583333   0.082000             0.056833   \n",
       "2017-01-01 02:00     5.054333  78.933333   0.082333             0.063000   \n",
       "2017-01-01 03:00     5.004333  77.083333   0.082833             0.059833   \n",
       "2017-01-01 04:00     5.097667  74.050000   0.082333             0.058000   \n",
       "\n",
       "                  DiffuseFlows  PowerConsumption  \n",
       "Datetime                                          \n",
       "2017-01-01 00:00      0.098833      22158.923532  \n",
       "2017-01-01 01:00      0.112500      19259.508737  \n",
       "2017-01-01 02:00      0.129167      17363.293880  \n",
       "2017-01-01 03:00      0.141000      16304.815849  \n",
       "2017-01-01 04:00      0.122833      15904.879449  "
      ]
     },
     "execution_count": 2,
     "metadata": {},
     "output_type": "execute_result"
    }
   ],
   "source": [
    "import pandas as pd \n",
    "df=pd.read_csv('C:\\\\workplace\\\\power-consumption\\\\dataset\\\\processed.csv',index_col=0)\n",
    "df.head()"
   ]
  },
  {
   "cell_type": "code",
   "execution_count": 3,
   "metadata": {},
   "outputs": [
    {
     "data": {
      "text/plain": [
       "(8736, 6)"
      ]
     },
     "execution_count": 3,
     "metadata": {},
     "output_type": "execute_result"
    }
   ],
   "source": [
    "df.shape"
   ]
  },
  {
   "cell_type": "code",
   "execution_count": 4,
   "metadata": {},
   "outputs": [],
   "source": [
    "train_df=df.iloc[:5000-7]\n",
    "y_test=df.iloc[5000-7:,-1]\n",
    "test_df=df.iloc[5000-7:]"
   ]
  },
  {
   "cell_type": "code",
   "execution_count": 5,
   "metadata": {},
   "outputs": [
    {
     "data": {
      "text/html": [
       "<div>\n",
       "<style scoped>\n",
       "    .dataframe tbody tr th:only-of-type {\n",
       "        vertical-align: middle;\n",
       "    }\n",
       "\n",
       "    .dataframe tbody tr th {\n",
       "        vertical-align: top;\n",
       "    }\n",
       "\n",
       "    .dataframe thead th {\n",
       "        text-align: right;\n",
       "    }\n",
       "</style>\n",
       "<table border=\"1\" class=\"dataframe\">\n",
       "  <thead>\n",
       "    <tr style=\"text-align: right;\">\n",
       "      <th></th>\n",
       "      <th>Temperature</th>\n",
       "      <th>Humidity</th>\n",
       "      <th>WindSpeed</th>\n",
       "      <th>GeneralDiffuseFlows</th>\n",
       "      <th>DiffuseFlows</th>\n",
       "      <th>PowerConsumption</th>\n",
       "    </tr>\n",
       "    <tr>\n",
       "      <th>Datetime</th>\n",
       "      <th></th>\n",
       "      <th></th>\n",
       "      <th></th>\n",
       "      <th></th>\n",
       "      <th></th>\n",
       "      <th></th>\n",
       "    </tr>\n",
       "  </thead>\n",
       "  <tbody>\n",
       "    <tr>\n",
       "      <th>2017-01-01 00:00</th>\n",
       "      <td>6.196833</td>\n",
       "      <td>75.066667</td>\n",
       "      <td>0.081833</td>\n",
       "      <td>0.063500</td>\n",
       "      <td>0.098833</td>\n",
       "      <td>22158.923532</td>\n",
       "    </tr>\n",
       "    <tr>\n",
       "      <th>2017-01-01 01:00</th>\n",
       "      <td>5.548833</td>\n",
       "      <td>77.583333</td>\n",
       "      <td>0.082000</td>\n",
       "      <td>0.056833</td>\n",
       "      <td>0.112500</td>\n",
       "      <td>19259.508737</td>\n",
       "    </tr>\n",
       "    <tr>\n",
       "      <th>2017-01-01 02:00</th>\n",
       "      <td>5.054333</td>\n",
       "      <td>78.933333</td>\n",
       "      <td>0.082333</td>\n",
       "      <td>0.063000</td>\n",
       "      <td>0.129167</td>\n",
       "      <td>17363.293880</td>\n",
       "    </tr>\n",
       "    <tr>\n",
       "      <th>2017-01-01 03:00</th>\n",
       "      <td>5.004333</td>\n",
       "      <td>77.083333</td>\n",
       "      <td>0.082833</td>\n",
       "      <td>0.059833</td>\n",
       "      <td>0.141000</td>\n",
       "      <td>16304.815849</td>\n",
       "    </tr>\n",
       "    <tr>\n",
       "      <th>2017-01-01 04:00</th>\n",
       "      <td>5.097667</td>\n",
       "      <td>74.050000</td>\n",
       "      <td>0.082333</td>\n",
       "      <td>0.058000</td>\n",
       "      <td>0.122833</td>\n",
       "      <td>15904.879449</td>\n",
       "    </tr>\n",
       "    <tr>\n",
       "      <th>...</th>\n",
       "      <td>...</td>\n",
       "      <td>...</td>\n",
       "      <td>...</td>\n",
       "      <td>...</td>\n",
       "      <td>...</td>\n",
       "      <td>...</td>\n",
       "    </tr>\n",
       "    <tr>\n",
       "      <th>2017-07-27 20:00</th>\n",
       "      <td>27.843333</td>\n",
       "      <td>61.208333</td>\n",
       "      <td>4.906667</td>\n",
       "      <td>13.574167</td>\n",
       "      <td>11.094667</td>\n",
       "      <td>44231.353009</td>\n",
       "    </tr>\n",
       "    <tr>\n",
       "      <th>2017-07-27 21:00</th>\n",
       "      <td>27.210000</td>\n",
       "      <td>62.086667</td>\n",
       "      <td>4.907500</td>\n",
       "      <td>0.083333</td>\n",
       "      <td>0.085333</td>\n",
       "      <td>42667.595168</td>\n",
       "    </tr>\n",
       "    <tr>\n",
       "      <th>2017-07-27 22:00</th>\n",
       "      <td>26.566667</td>\n",
       "      <td>71.410000</td>\n",
       "      <td>4.906333</td>\n",
       "      <td>0.089333</td>\n",
       "      <td>0.101167</td>\n",
       "      <td>40407.914353</td>\n",
       "    </tr>\n",
       "    <tr>\n",
       "      <th>2017-07-27 23:00</th>\n",
       "      <td>25.615000</td>\n",
       "      <td>79.433333</td>\n",
       "      <td>4.904333</td>\n",
       "      <td>0.095000</td>\n",
       "      <td>0.101333</td>\n",
       "      <td>36851.143991</td>\n",
       "    </tr>\n",
       "    <tr>\n",
       "      <th>2017-07-28 00:00</th>\n",
       "      <td>26.215000</td>\n",
       "      <td>72.021667</td>\n",
       "      <td>4.904500</td>\n",
       "      <td>0.099333</td>\n",
       "      <td>0.093833</td>\n",
       "      <td>32609.235268</td>\n",
       "    </tr>\n",
       "  </tbody>\n",
       "</table>\n",
       "<p>4993 rows × 6 columns</p>\n",
       "</div>"
      ],
      "text/plain": [
       "                  Temperature   Humidity  WindSpeed  GeneralDiffuseFlows  \\\n",
       "Datetime                                                                   \n",
       "2017-01-01 00:00     6.196833  75.066667   0.081833             0.063500   \n",
       "2017-01-01 01:00     5.548833  77.583333   0.082000             0.056833   \n",
       "2017-01-01 02:00     5.054333  78.933333   0.082333             0.063000   \n",
       "2017-01-01 03:00     5.004333  77.083333   0.082833             0.059833   \n",
       "2017-01-01 04:00     5.097667  74.050000   0.082333             0.058000   \n",
       "...                       ...        ...        ...                  ...   \n",
       "2017-07-27 20:00    27.843333  61.208333   4.906667            13.574167   \n",
       "2017-07-27 21:00    27.210000  62.086667   4.907500             0.083333   \n",
       "2017-07-27 22:00    26.566667  71.410000   4.906333             0.089333   \n",
       "2017-07-27 23:00    25.615000  79.433333   4.904333             0.095000   \n",
       "2017-07-28 00:00    26.215000  72.021667   4.904500             0.099333   \n",
       "\n",
       "                  DiffuseFlows  PowerConsumption  \n",
       "Datetime                                          \n",
       "2017-01-01 00:00      0.098833      22158.923532  \n",
       "2017-01-01 01:00      0.112500      19259.508737  \n",
       "2017-01-01 02:00      0.129167      17363.293880  \n",
       "2017-01-01 03:00      0.141000      16304.815849  \n",
       "2017-01-01 04:00      0.122833      15904.879449  \n",
       "...                        ...               ...  \n",
       "2017-07-27 20:00     11.094667      44231.353009  \n",
       "2017-07-27 21:00      0.085333      42667.595168  \n",
       "2017-07-27 22:00      0.101167      40407.914353  \n",
       "2017-07-27 23:00      0.101333      36851.143991  \n",
       "2017-07-28 00:00      0.093833      32609.235268  \n",
       "\n",
       "[4993 rows x 6 columns]"
      ]
     },
     "execution_count": 5,
     "metadata": {},
     "output_type": "execute_result"
    }
   ],
   "source": [
    "train_df"
   ]
  },
  {
   "cell_type": "code",
   "execution_count": 6,
   "metadata": {},
   "outputs": [
    {
     "data": {
      "text/plain": [
       "156"
      ]
     },
     "execution_count": 6,
     "metadata": {},
     "output_type": "execute_result"
    }
   ],
   "source": [
    "triggered=pd.to_datetime(test_df.reset_index()['Datetime']).dt.strftime('%Y-%m-%d 00:00').unique()\n",
    "len(triggered)"
   ]
  },
  {
   "cell_type": "code",
   "execution_count": 7,
   "metadata": {},
   "outputs": [],
   "source": [
    "from sklearn.preprocessing import PowerTransformer \n",
    "scaler= PowerTransformer().fit(train_df)\n",
    "train_df2=pd.DataFrame(scaler.transform(train_df),columns=train_df.columns)"
   ]
  },
  {
   "cell_type": "code",
   "execution_count": 8,
   "metadata": {},
   "outputs": [
    {
     "data": {
      "text/html": [
       "<div>\n",
       "<style scoped>\n",
       "    .dataframe tbody tr th:only-of-type {\n",
       "        vertical-align: middle;\n",
       "    }\n",
       "\n",
       "    .dataframe tbody tr th {\n",
       "        vertical-align: top;\n",
       "    }\n",
       "\n",
       "    .dataframe thead th {\n",
       "        text-align: right;\n",
       "    }\n",
       "</style>\n",
       "<table border=\"1\" class=\"dataframe\">\n",
       "  <thead>\n",
       "    <tr style=\"text-align: right;\">\n",
       "      <th></th>\n",
       "      <th>Temperature</th>\n",
       "      <th>Humidity</th>\n",
       "      <th>WindSpeed</th>\n",
       "      <th>GeneralDiffuseFlows</th>\n",
       "      <th>DiffuseFlows</th>\n",
       "      <th>PowerConsumption</th>\n",
       "    </tr>\n",
       "  </thead>\n",
       "  <tbody>\n",
       "    <tr>\n",
       "      <th>0</th>\n",
       "      <td>-2.519122</td>\n",
       "      <td>0.365458</td>\n",
       "      <td>-0.675575</td>\n",
       "      <td>-1.047975</td>\n",
       "      <td>-1.066473</td>\n",
       "      <td>-0.196897</td>\n",
       "    </tr>\n",
       "    <tr>\n",
       "      <th>1</th>\n",
       "      <td>-2.730180</td>\n",
       "      <td>0.559973</td>\n",
       "      <td>-0.675066</td>\n",
       "      <td>-1.050480</td>\n",
       "      <td>-1.060742</td>\n",
       "      <td>-0.784657</td>\n",
       "    </tr>\n",
       "    <tr>\n",
       "      <th>2</th>\n",
       "      <td>-2.900476</td>\n",
       "      <td>0.667014</td>\n",
       "      <td>-0.674049</td>\n",
       "      <td>-1.048163</td>\n",
       "      <td>-1.053851</td>\n",
       "      <td>-1.216934</td>\n",
       "    </tr>\n",
       "    <tr>\n",
       "      <th>3</th>\n",
       "      <td>-2.918187</td>\n",
       "      <td>0.520806</td>\n",
       "      <td>-0.672525</td>\n",
       "      <td>-1.049351</td>\n",
       "      <td>-1.049022</td>\n",
       "      <td>-1.478381</td>\n",
       "    </tr>\n",
       "    <tr>\n",
       "      <th>4</th>\n",
       "      <td>-2.885203</td>\n",
       "      <td>0.288735</td>\n",
       "      <td>-0.674049</td>\n",
       "      <td>-1.050040</td>\n",
       "      <td>-1.056457</td>\n",
       "      <td>-1.581429</td>\n",
       "    </tr>\n",
       "    <tr>\n",
       "      <th>...</th>\n",
       "      <td>...</td>\n",
       "      <td>...</td>\n",
       "      <td>...</td>\n",
       "      <td>...</td>\n",
       "      <td>...</td>\n",
       "      <td>...</td>\n",
       "    </tr>\n",
       "    <tr>\n",
       "      <th>4988</th>\n",
       "      <td>1.565400</td>\n",
       "      <td>-0.588661</td>\n",
       "      <td>1.466105</td>\n",
       "      <td>-0.053800</td>\n",
       "      <td>-0.006063</td>\n",
       "      <td>2.749115</td>\n",
       "    </tr>\n",
       "    <tr>\n",
       "      <th>4989</th>\n",
       "      <td>1.482930</td>\n",
       "      <td>-0.534053</td>\n",
       "      <td>1.466148</td>\n",
       "      <td>-1.040620</td>\n",
       "      <td>-1.072207</td>\n",
       "      <td>2.593667</td>\n",
       "    </tr>\n",
       "    <tr>\n",
       "      <th>4990</th>\n",
       "      <td>1.397928</td>\n",
       "      <td>0.094489</td>\n",
       "      <td>1.466088</td>\n",
       "      <td>-1.038422</td>\n",
       "      <td>-1.065489</td>\n",
       "      <td>2.359095</td>\n",
       "    </tr>\n",
       "    <tr>\n",
       "      <th>4991</th>\n",
       "      <td>1.269812</td>\n",
       "      <td>0.707137</td>\n",
       "      <td>1.465983</td>\n",
       "      <td>-1.036358</td>\n",
       "      <td>-1.065419</td>\n",
       "      <td>1.963068</td>\n",
       "    </tr>\n",
       "    <tr>\n",
       "      <th>4992</th>\n",
       "      <td>1.350923</td>\n",
       "      <td>0.138854</td>\n",
       "      <td>1.465992</td>\n",
       "      <td>-1.034787</td>\n",
       "      <td>-1.068588</td>\n",
       "      <td>1.439708</td>\n",
       "    </tr>\n",
       "  </tbody>\n",
       "</table>\n",
       "<p>4993 rows × 6 columns</p>\n",
       "</div>"
      ],
      "text/plain": [
       "      Temperature  Humidity  WindSpeed  GeneralDiffuseFlows  DiffuseFlows  \\\n",
       "0       -2.519122  0.365458  -0.675575            -1.047975     -1.066473   \n",
       "1       -2.730180  0.559973  -0.675066            -1.050480     -1.060742   \n",
       "2       -2.900476  0.667014  -0.674049            -1.048163     -1.053851   \n",
       "3       -2.918187  0.520806  -0.672525            -1.049351     -1.049022   \n",
       "4       -2.885203  0.288735  -0.674049            -1.050040     -1.056457   \n",
       "...           ...       ...        ...                  ...           ...   \n",
       "4988     1.565400 -0.588661   1.466105            -0.053800     -0.006063   \n",
       "4989     1.482930 -0.534053   1.466148            -1.040620     -1.072207   \n",
       "4990     1.397928  0.094489   1.466088            -1.038422     -1.065489   \n",
       "4991     1.269812  0.707137   1.465983            -1.036358     -1.065419   \n",
       "4992     1.350923  0.138854   1.465992            -1.034787     -1.068588   \n",
       "\n",
       "      PowerConsumption  \n",
       "0            -0.196897  \n",
       "1            -0.784657  \n",
       "2            -1.216934  \n",
       "3            -1.478381  \n",
       "4            -1.581429  \n",
       "...                ...  \n",
       "4988          2.749115  \n",
       "4989          2.593667  \n",
       "4990          2.359095  \n",
       "4991          1.963068  \n",
       "4992          1.439708  \n",
       "\n",
       "[4993 rows x 6 columns]"
      ]
     },
     "execution_count": 8,
     "metadata": {},
     "output_type": "execute_result"
    }
   ],
   "source": [
    "train_df2"
   ]
  },
  {
   "cell_type": "code",
   "execution_count": 9,
   "metadata": {},
   "outputs": [],
   "source": [
    "import numpy as np\n",
    "def make_supervise(train_df2,target_name,num_lags,num_steps):\n",
    "    X_train=pd.DataFrame()\n",
    "    for i in range(num_lags):\n",
    "        for feat in train_df2.columns:\n",
    "            X_train[feat+' '+'lag_{}'.format(num_lags-1-i)]=train_df2[feat].shift(num_lags-1-i)\n",
    "\n",
    "    y_train=pd.DataFrame() \n",
    "    for i in range(1,num_steps+1):\n",
    "        y_train[target_name+' '+'steps_{}'.format(i)]=train_df2[target_name].shift(-i)\n",
    "\n",
    "    train_df3=pd.concat([X_train,y_train],axis=1).dropna()\n",
    "    return train_df3"
   ]
  },
  {
   "cell_type": "code",
   "execution_count": 10,
   "metadata": {},
   "outputs": [],
   "source": [
    "train_df3=make_supervise(train_df2,'PowerConsumption',24,24)"
   ]
  },
  {
   "cell_type": "code",
   "execution_count": 24,
   "metadata": {},
   "outputs": [
    {
     "data": {
      "text/plain": [
       "(4993, 6)"
      ]
     },
     "execution_count": 24,
     "metadata": {},
     "output_type": "execute_result"
    }
   ],
   "source": [
    "train_df.shape"
   ]
  },
  {
   "cell_type": "code",
   "execution_count": 27,
   "metadata": {},
   "outputs": [
    {
     "data": {
      "text/plain": [
       "24.0"
      ]
     },
     "execution_count": 27,
     "metadata": {},
     "output_type": "execute_result"
    }
   ],
   "source": [
    "144/6"
   ]
  },
  {
   "cell_type": "code",
   "execution_count": 28,
   "metadata": {},
   "outputs": [],
   "source": [
    "X_train=np.array(train_df3[train_df3.columns[train_df3.columns.str.contains('lag')]]).reshape(train_df3.shape[0],24,train_df.shape[1])\n",
    "y_train=np.array(train_df3[train_df3.columns[train_df3.columns.str.contains('steps')]])"
   ]
  },
  {
   "cell_type": "code",
   "execution_count": 30,
   "metadata": {},
   "outputs": [
    {
     "data": {
      "text/plain": [
       "(4946, 24, 6)"
      ]
     },
     "execution_count": 30,
     "metadata": {},
     "output_type": "execute_result"
    }
   ],
   "source": [
    "X_train.shape"
   ]
  },
  {
   "cell_type": "code",
   "execution_count": 20,
   "metadata": {},
   "outputs": [
    {
     "data": {
      "text/plain": [
       "((4946, 144), (4946, 24))"
      ]
     },
     "execution_count": 20,
     "metadata": {},
     "output_type": "execute_result"
    }
   ],
   "source": [
    "X_train.shape,y_train.shape"
   ]
  },
  {
   "cell_type": "code",
   "execution_count": 39,
   "metadata": {},
   "outputs": [],
   "source": [
    "from tensorflow.keras.models import Sequential\n",
    "from tensorflow.keras.layers import Input,Dense,LSTM\n",
    "from tensorflow.keras.optimizers import Adam \n",
    "from tensorflow.keras.losses import MeanAbsoluteError\n",
    "from tensorflow.keras.callbacks import EarlyStopping"
   ]
  },
  {
   "cell_type": "code",
   "execution_count": 52,
   "metadata": {},
   "outputs": [],
   "source": [
    "from sklearn.model_selection import  train_test_split \n",
    "from sklearn.metrics import mean_absolute_percentage_error\n",
    "X_fit,X_val,y_fit,y_val=train_test_split(X_train,y_train,shuffle=False,test_size=0.3)"
   ]
  },
  {
   "cell_type": "code",
   "execution_count": 53,
   "metadata": {},
   "outputs": [],
   "source": [
    "stop_rul=EarlyStopping(patience=10)"
   ]
  },
  {
   "cell_type": "code",
   "execution_count": 54,
   "metadata": {},
   "outputs": [],
   "source": [
    "def val_fun(X_fit,y_fit,X_val,y_val,num_layers,num_nerons,alpha,iter,b_s):\n",
    "\n",
    "    # Input layer\n",
    "    model=Sequential()\n",
    "    #model.add(Input(X_fit.shape[0],X_fit.shape[1],X_fit.shape[2]))\n",
    "    # Hidden Layers\n",
    "    for i in range(num_layers):\n",
    "        if i==0:\n",
    "            if num_layers>1:\n",
    "                model.add(LSTM(units=num_nerons,return_sequences=True,input_shape=(X_fit.shape[1],X_fit.shape[2])))\n",
    "            else:\n",
    "                model.add(LSTM(units=num_nerons,return_sequences=False,input_shape=(X_fit.shape[1],X_fit.shape[2]))) \n",
    "        elif i<num_layers-1:\n",
    "            model.add(LSTM(units=num_nerons,return_sequences=True))\n",
    "        else :\n",
    "            model.add(LSTM(units=num_nerons))\n",
    "    # output layer\n",
    "    model.add(Dense(units=24))\n",
    "    # Training\n",
    "    model.compile(optimizer=Adam(learning_rate=alpha),loss=MeanAbsoluteError())\n",
    "    model.fit(X_fit,y_fit,validation_data=(X_val,y_val),epochs=iter,batch_size=b_s,callbacks=[stop_rul])\n",
    "    # Evaluation of the model\n",
    "    pred=model.predict(X_val)\n",
    "    y_val2=scaler.inverse_transform(np.array(y_val).reshape(-1,1))\n",
    "    pred2=scaler.inverse_transform(pred.reshape(-1,1))\n",
    "    error=mean_absolute_percentage_error(y_val2,pred2)\n",
    "    return error"
   ]
  },
  {
   "cell_type": "code",
   "execution_count": null,
   "metadata": {},
   "outputs": [],
   "source": []
  },
  {
   "cell_type": "code",
   "execution_count": null,
   "metadata": {},
   "outputs": [],
   "source": []
  }
 ],
 "metadata": {
  "kernelspec": {
   "display_name": "aep_hourly",
   "language": "python",
   "name": "python3"
  },
  "language_info": {
   "codemirror_mode": {
    "name": "ipython",
    "version": 3
   },
   "file_extension": ".py",
   "mimetype": "text/x-python",
   "name": "python",
   "nbconvert_exporter": "python",
   "pygments_lexer": "ipython3",
   "version": "3.10.13"
  }
 },
 "nbformat": 4,
 "nbformat_minor": 2
}
